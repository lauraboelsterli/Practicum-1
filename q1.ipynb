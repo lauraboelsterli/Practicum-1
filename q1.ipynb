{
 "cells": [
  {
   "cell_type": "code",
   "metadata": {
    "ExecuteTime": {
     "end_time": "2025-10-04T19:59:22.664751Z",
     "start_time": "2025-10-04T19:59:21.643563Z"
    }
   },
   "source": [
    "import pandas as pd\n",
    "import matplotlib.pyplot as plt \n",
    "\n",
    "aviation_file = \"NTSBAviationData.csv\"\n",
    "df = pd.read_csv(aviation_file, encoding=\"latin1\")\n",
    "df.head()"
   ],
   "outputs": [
    {
     "name": "stderr",
     "output_type": "stream",
     "text": [
      "C:\\Users\\nawib\\AppData\\Local\\Temp\\ipykernel_16664\\495116649.py:5: DtypeWarning: Columns (6,7,28) have mixed types. Specify dtype option on import or set low_memory=False.\n",
      "  df = pd.read_csv(aviation_file, encoding=\"latin1\")\n"
     ]
    },
    {
     "data": {
      "text/plain": [
       "         Event.Id Investigation.Type Accident.Number  Event.Date  \\\n",
       "0  20001218X45444           Accident      SEA87LA080  1948-10-24   \n",
       "1  20001218X45447           Accident      LAX94LA336  1962-07-19   \n",
       "2  20061025X01555           Accident      NYC07LA005  1974-08-30   \n",
       "3  20001218X45448           Accident      LAX96LA321  1977-06-19   \n",
       "4  20041105X01764           Accident      CHI79FA064  1979-08-02   \n",
       "\n",
       "          Location        Country   Latitude  Longitude Airport.Code  \\\n",
       "0  MOOSE CREEK, ID  United States        NaN        NaN          NaN   \n",
       "1   BRIDGEPORT, CA  United States        NaN        NaN          NaN   \n",
       "2    Saltville, VA  United States  36.922223 -81.878056          NaN   \n",
       "3       EUREKA, CA  United States        NaN        NaN          NaN   \n",
       "4       Canton, OH  United States        NaN        NaN          NaN   \n",
       "\n",
       "  Airport.Name  ... Purpose.of.flight Air.carrier Total.Fatal.Injuries  \\\n",
       "0          NaN  ...          Personal         NaN                  2.0   \n",
       "1          NaN  ...          Personal         NaN                  4.0   \n",
       "2          NaN  ...          Personal         NaN                  3.0   \n",
       "3          NaN  ...          Personal         NaN                  2.0   \n",
       "4          NaN  ...          Personal         NaN                  1.0   \n",
       "\n",
       "  Total.Serious.Injuries Total.Minor.Injuries Total.Uninjured  \\\n",
       "0                    0.0                  0.0             0.0   \n",
       "1                    0.0                  0.0             0.0   \n",
       "2                    NaN                  NaN             NaN   \n",
       "3                    0.0                  0.0             0.0   \n",
       "4                    2.0                  NaN             0.0   \n",
       "\n",
       "  Weather.Condition  Broad.phase.of.flight   Report.Status Publication.Date  \n",
       "0               UNK                 Cruise  Probable Cause              NaN  \n",
       "1               UNK                Unknown  Probable Cause       19-09-1996  \n",
       "2               IMC                 Cruise  Probable Cause       26-02-2007  \n",
       "3               IMC                 Cruise  Probable Cause       12-09-2000  \n",
       "4               VMC               Approach  Probable Cause       16-04-1980  \n",
       "\n",
       "[5 rows x 31 columns]"
      ],
      "text/html": [
       "<div>\n",
       "<style scoped>\n",
       "    .dataframe tbody tr th:only-of-type {\n",
       "        vertical-align: middle;\n",
       "    }\n",
       "\n",
       "    .dataframe tbody tr th {\n",
       "        vertical-align: top;\n",
       "    }\n",
       "\n",
       "    .dataframe thead th {\n",
       "        text-align: right;\n",
       "    }\n",
       "</style>\n",
       "<table border=\"1\" class=\"dataframe\">\n",
       "  <thead>\n",
       "    <tr style=\"text-align: right;\">\n",
       "      <th></th>\n",
       "      <th>Event.Id</th>\n",
       "      <th>Investigation.Type</th>\n",
       "      <th>Accident.Number</th>\n",
       "      <th>Event.Date</th>\n",
       "      <th>Location</th>\n",
       "      <th>Country</th>\n",
       "      <th>Latitude</th>\n",
       "      <th>Longitude</th>\n",
       "      <th>Airport.Code</th>\n",
       "      <th>Airport.Name</th>\n",
       "      <th>...</th>\n",
       "      <th>Purpose.of.flight</th>\n",
       "      <th>Air.carrier</th>\n",
       "      <th>Total.Fatal.Injuries</th>\n",
       "      <th>Total.Serious.Injuries</th>\n",
       "      <th>Total.Minor.Injuries</th>\n",
       "      <th>Total.Uninjured</th>\n",
       "      <th>Weather.Condition</th>\n",
       "      <th>Broad.phase.of.flight</th>\n",
       "      <th>Report.Status</th>\n",
       "      <th>Publication.Date</th>\n",
       "    </tr>\n",
       "  </thead>\n",
       "  <tbody>\n",
       "    <tr>\n",
       "      <th>0</th>\n",
       "      <td>20001218X45444</td>\n",
       "      <td>Accident</td>\n",
       "      <td>SEA87LA080</td>\n",
       "      <td>1948-10-24</td>\n",
       "      <td>MOOSE CREEK, ID</td>\n",
       "      <td>United States</td>\n",
       "      <td>NaN</td>\n",
       "      <td>NaN</td>\n",
       "      <td>NaN</td>\n",
       "      <td>NaN</td>\n",
       "      <td>...</td>\n",
       "      <td>Personal</td>\n",
       "      <td>NaN</td>\n",
       "      <td>2.0</td>\n",
       "      <td>0.0</td>\n",
       "      <td>0.0</td>\n",
       "      <td>0.0</td>\n",
       "      <td>UNK</td>\n",
       "      <td>Cruise</td>\n",
       "      <td>Probable Cause</td>\n",
       "      <td>NaN</td>\n",
       "    </tr>\n",
       "    <tr>\n",
       "      <th>1</th>\n",
       "      <td>20001218X45447</td>\n",
       "      <td>Accident</td>\n",
       "      <td>LAX94LA336</td>\n",
       "      <td>1962-07-19</td>\n",
       "      <td>BRIDGEPORT, CA</td>\n",
       "      <td>United States</td>\n",
       "      <td>NaN</td>\n",
       "      <td>NaN</td>\n",
       "      <td>NaN</td>\n",
       "      <td>NaN</td>\n",
       "      <td>...</td>\n",
       "      <td>Personal</td>\n",
       "      <td>NaN</td>\n",
       "      <td>4.0</td>\n",
       "      <td>0.0</td>\n",
       "      <td>0.0</td>\n",
       "      <td>0.0</td>\n",
       "      <td>UNK</td>\n",
       "      <td>Unknown</td>\n",
       "      <td>Probable Cause</td>\n",
       "      <td>19-09-1996</td>\n",
       "    </tr>\n",
       "    <tr>\n",
       "      <th>2</th>\n",
       "      <td>20061025X01555</td>\n",
       "      <td>Accident</td>\n",
       "      <td>NYC07LA005</td>\n",
       "      <td>1974-08-30</td>\n",
       "      <td>Saltville, VA</td>\n",
       "      <td>United States</td>\n",
       "      <td>36.922223</td>\n",
       "      <td>-81.878056</td>\n",
       "      <td>NaN</td>\n",
       "      <td>NaN</td>\n",
       "      <td>...</td>\n",
       "      <td>Personal</td>\n",
       "      <td>NaN</td>\n",
       "      <td>3.0</td>\n",
       "      <td>NaN</td>\n",
       "      <td>NaN</td>\n",
       "      <td>NaN</td>\n",
       "      <td>IMC</td>\n",
       "      <td>Cruise</td>\n",
       "      <td>Probable Cause</td>\n",
       "      <td>26-02-2007</td>\n",
       "    </tr>\n",
       "    <tr>\n",
       "      <th>3</th>\n",
       "      <td>20001218X45448</td>\n",
       "      <td>Accident</td>\n",
       "      <td>LAX96LA321</td>\n",
       "      <td>1977-06-19</td>\n",
       "      <td>EUREKA, CA</td>\n",
       "      <td>United States</td>\n",
       "      <td>NaN</td>\n",
       "      <td>NaN</td>\n",
       "      <td>NaN</td>\n",
       "      <td>NaN</td>\n",
       "      <td>...</td>\n",
       "      <td>Personal</td>\n",
       "      <td>NaN</td>\n",
       "      <td>2.0</td>\n",
       "      <td>0.0</td>\n",
       "      <td>0.0</td>\n",
       "      <td>0.0</td>\n",
       "      <td>IMC</td>\n",
       "      <td>Cruise</td>\n",
       "      <td>Probable Cause</td>\n",
       "      <td>12-09-2000</td>\n",
       "    </tr>\n",
       "    <tr>\n",
       "      <th>4</th>\n",
       "      <td>20041105X01764</td>\n",
       "      <td>Accident</td>\n",
       "      <td>CHI79FA064</td>\n",
       "      <td>1979-08-02</td>\n",
       "      <td>Canton, OH</td>\n",
       "      <td>United States</td>\n",
       "      <td>NaN</td>\n",
       "      <td>NaN</td>\n",
       "      <td>NaN</td>\n",
       "      <td>NaN</td>\n",
       "      <td>...</td>\n",
       "      <td>Personal</td>\n",
       "      <td>NaN</td>\n",
       "      <td>1.0</td>\n",
       "      <td>2.0</td>\n",
       "      <td>NaN</td>\n",
       "      <td>0.0</td>\n",
       "      <td>VMC</td>\n",
       "      <td>Approach</td>\n",
       "      <td>Probable Cause</td>\n",
       "      <td>16-04-1980</td>\n",
       "    </tr>\n",
       "  </tbody>\n",
       "</table>\n",
       "<p>5 rows × 31 columns</p>\n",
       "</div>"
      ]
     },
     "execution_count": 1,
     "metadata": {},
     "output_type": "execute_result"
    }
   ],
   "execution_count": 1
  },
  {
   "cell_type": "code",
   "metadata": {
    "ExecuteTime": {
     "end_time": "2025-10-04T19:59:22.974934Z",
     "start_time": "2025-10-04T19:59:22.884069Z"
    }
   },
   "source": [
    "date_cols = [\"Event.Date\", \"Publication.Date\"]\n",
    "for col in date_cols:\n",
    "    df[col] = pd.to_datetime(df[col],errors=\"coerce\")\n",
    "\n",
    "categorical_cols = [\n",
    "    \"Investigation.Type\", \"Injury.Severity\", \"Aircraft.damage\",\n",
    "    \"Aircraft.Category\", \"Amateur.Built\", \"Engine.Type\",\n",
    "    \"FAR.Description\", \"Schedule\", \"Purpose.of.flight\",\n",
    "    \"Weather.Condition\", \"Broad.phase.of.flight\", \"Report.Status\"\n",
    "]\n",
    "for col in categorical_cols:\n",
    "    df[col] = df[col].astype(\"category\")"
   ],
   "outputs": [
    {
     "name": "stderr",
     "output_type": "stream",
     "text": [
      "C:\\Users\\nawib\\AppData\\Local\\Temp\\ipykernel_16664\\3370350721.py:3: UserWarning: Parsing dates in %d-%m-%Y format when dayfirst=False (the default) was specified. Pass `dayfirst=True` or specify a format to silence this warning.\n",
      "  df[col] = pd.to_datetime(df[col],errors=\"coerce\")\n"
     ]
    }
   ],
   "execution_count": 2
  },
  {
   "cell_type": "code",
   "metadata": {
    "ExecuteTime": {
     "end_time": "2025-10-04T19:59:23.051976Z",
     "start_time": "2025-10-04T19:59:23.038451Z"
    }
   },
   "source": [
    "def line_chart(df, date_col, group_col, years=None, title=None):\n",
    "    \"\"\"plots counts per year for categories in group_col for \n",
    "    given num of years\"\"\"\n",
    "    df = df.copy()\n",
    "    \n",
    "    # restrict to last n years \n",
    "    if years is not None:\n",
    "        max_year = df[date_col].dt.year.max()\n",
    "        # include all 20 years \n",
    "        cutoff = max_year - (years-1)\n",
    "        df = df[df[date_col].dt.year >= cutoff]\n",
    "\n",
    "    # extract year\n",
    "    df[\"Year\"] = df[date_col].dt.year\n",
    "\n",
    "    # group by year + category\n",
    "    counts = (\n",
    "        df.groupby([\"Year\", group_col])\n",
    "        .size()\n",
    "        .reset_index(name=\"Count\")\n",
    "        .pivot(index=\"Year\", columns=group_col, values=\"Count\")\n",
    "    )\n",
    "\n",
    "    # plotting\n",
    "    ax = counts.plot(kind=\"line\", marker=\"o\")\n",
    "    if not title:\n",
    "        title = f\"{group_col} counts\"\n",
    "        if years:\n",
    "            title += f\" (last {years} years)\"\n",
    "    # ticls for every 2 years \n",
    "    ax.set_xticks(counts.index[::2])\n",
    "    ax.set_title(title)\n",
    "    ax.set_ylabel(\"Count\")\n",
    "    ax.set_xlabel(\"Year\")\n",
    "    ax.legend(title=group_col)\n",
    "    ax.grid(True, linestyle=\"--\", alpha=0.5)\n",
    "    plt.show()"
   ],
   "outputs": [],
   "execution_count": 3
  },
  {
   "cell_type": "code",
   "metadata": {
    "ExecuteTime": {
     "end_time": "2025-10-04T19:59:23.300340Z",
     "start_time": "2025-10-04T19:59:23.135166Z"
    }
   },
   "source": [
    "# line chart\n",
    "line_chart(df, \"Event.Date\", \"Investigation.Type\", years=20,\n",
    "           title=\"Accidents vs Incidents (Last 20 Years)\")"
   ],
   "outputs": [
    {
     "name": "stderr",
     "output_type": "stream",
     "text": [
      "C:\\Users\\nawib\\AppData\\Local\\Temp\\ipykernel_16664\\373061620.py:18: FutureWarning: The default of observed=False is deprecated and will be changed to True in a future version of pandas. Pass observed=False to retain current behavior or observed=True to adopt the future default and silence this warning.\n",
      "  df.groupby([\"Year\", group_col])\n"
     ]
    },
    {
     "data": {
      "text/plain": [
       "<Figure size 640x480 with 1 Axes>"
      ],
      "image/png": "[encoded data removed]"
     },
     "metadata": {},
     "output_type": "display_data",
     "jetTransient": {
      "display_id": null
     }
    }
   ],
   "execution_count": 4
  },
  {
   "cell_type": "markdown",
   "metadata": {},
   "source": [
    "The line chart shows accidents vs. incidents over the last 20 years. Incidents happen less than accidents, though it seems like incidents are gradually increasing over time while accidents are decreasing at a faster rate. So, it seems like aviation is getting safer in terms of accidents, while incidents are more visible due to increased reporting."
   ]
  },
  {
   "cell_type": "code",
   "metadata": {
    "ExecuteTime": {
     "end_time": "2025-10-04T19:59:23.345848Z",
     "start_time": "2025-10-04T19:59:23.309410Z"
    }
   },
   "source": [
    "print(df.isna().sum())"
   ],
   "outputs": [
    {
     "name": "stdout",
     "output_type": "stream",
     "text": [
      "Event.Id                      0\n",
      "Investigation.Type            0\n",
      "Accident.Number               0\n",
      "Event.Date                    0\n",
      "Location                     52\n",
      "Country                     226\n",
      "Latitude                  54507\n",
      "Longitude                 54516\n",
      "Airport.Code              38757\n",
      "Airport.Name              36185\n",
      "Injury.Severity            1000\n",
      "Aircraft.damage            3194\n",
      "Aircraft.Category         56602\n",
      "Registration.Number        1382\n",
      "Make                         63\n",
      "Model                        92\n",
      "Amateur.Built               102\n",
      "Number.of.Engines          6084\n",
      "Engine.Type                7096\n",
      "FAR.Description           56866\n",
      "Schedule                  76307\n",
      "Purpose.of.flight          6192\n",
      "Air.carrier               72241\n",
      "Total.Fatal.Injuries      11401\n",
      "Total.Serious.Injuries    12510\n",
      "Total.Minor.Injuries      11933\n",
      "Total.Uninjured            5912\n",
      "Weather.Condition          4492\n",
      "Broad.phase.of.flight     27165\n",
      "Report.Status              6384\n",
      "Publication.Date          13771\n",
      "dtype: int64\n"
     ]
    }
   ],
   "execution_count": 5
  },
  {
   "cell_type": "code",
   "metadata": {
    "ExecuteTime": {
     "end_time": "2025-10-04T19:59:23.391639Z",
     "start_time": "2025-10-04T19:59:23.358966Z"
    }
   },
   "source": [
    "# dropping na and filling na with 0 show very different thigns, why is that?\n",
    "df[\"Year\"] = df[\"Event.Date\"].dt.year\n",
    "\n",
    "event_counts = df.groupby(\"Year\").agg(\n",
    "    total_events = (\"Event.Id\", \"count\"),\n",
    "    fatal_known  = (\"Total.Fatal.Injuries\", lambda x: x.notna().sum()),\n",
    "    fatal_na     = (\"Total.Fatal.Injuries\", lambda x: x.isna().sum())\n",
    ").reset_index()\n",
    "\n",
    "print(event_counts)"
   ],
   "outputs": [
    {
     "name": "stdout",
     "output_type": "stream",
     "text": [
      "    Year  total_events  fatal_known  fatal_na\n",
      "0   1948             1            1         0\n",
      "1   1962             1            1         0\n",
      "2   1974             1            1         0\n",
      "3   1977             1            1         0\n",
      "4   1979             2            1         1\n",
      "5   1981             1            1         0\n",
      "6   1982          3593         3569        24\n",
      "7   1983          3556         3545        11\n",
      "8   1984          3457         3441        16\n",
      "9   1985          3096         3085        11\n",
      "10  1986          2880         2873         7\n",
      "11  1987          2828         2816        12\n",
      "12  1988          2730         2710        20\n",
      "13  1989          2544         2535         9\n",
      "14  1990          2518         2503        15\n",
      "15  1991          2462         2441        21\n",
      "16  1992          2355         2346         9\n",
      "17  1993          2313         2306         7\n",
      "18  1994          2257         2244        13\n",
      "19  1995          2309         2298        11\n",
      "20  1996          2187         2179         8\n",
      "21  1997          2148         2120        28\n",
      "22  1998          2226         2176        50\n",
      "23  1999          2209         2164        45\n",
      "24  2000          2220         2129        91\n",
      "25  2001          2063          425      1638\n",
      "26  2002          2020          425      1595\n",
      "27  2003          2085          449      1636\n",
      "28  2004          1952          427      1525\n",
      "29  2005          2031          440      1591\n",
      "30  2006          1851          418      1433\n",
      "31  2007          2016          442      1574\n",
      "32  2008          1893         1893         0\n",
      "33  2009          1783         1783         0\n",
      "34  2010          1786         1786         0\n",
      "35  2011          1850         1850         0\n",
      "36  2012          1835         1835         0\n",
      "37  2013          1561         1561         0\n",
      "38  2014          1535         1535         0\n",
      "39  2015          1582         1582         0\n",
      "40  2016          1664         1664         0\n",
      "41  2017          1638         1638         0\n",
      "42  2018          1681         1681         0\n",
      "43  2019          1624         1624         0\n",
      "44  2020          1392         1392         0\n",
      "45  2021          1545         1545         0\n",
      "46  2022          1607         1607         0\n"
     ]
    }
   ],
   "execution_count": 6
  },
  {
   "cell_type": "code",
   "metadata": {
    "ExecuteTime": {
     "end_time": "2025-10-04T19:59:23.468918Z",
     "start_time": "2025-10-04T19:59:23.458539Z"
    }
   },
   "source": [
    "# proportion chart \n",
    "def proportion_chart(df, date_col, group_col, title=None):\n",
    "    \"\"\"Makes a proportion chart of fatal vs non-fatal events over time\"\"\"\n",
    "    # remove years before 1982, as only max 1/2 event was recorded \n",
    "    df = df[df[\"Event.Date\"].dt.year >= 1982].copy()\n",
    "\n",
    "    # some cleaning for all the na's: classify fatal vs non fatal- eveyrting w na was non fatal\n",
    "    # make new col for this \n",
    "    df[\"FatalEvent\"] = df[group_col].fillna(0).apply(lambda x: \"Fatal\" if x > 0 else \"Non-Fatal\")\n",
    "\n",
    "    # group by year + group col\n",
    "    df[\"Year\"] = df[date_col].dt.year.astype(int)\n",
    "    counts = (\n",
    "        df.groupby([\"Year\", \"FatalEvent\"])\n",
    "        .size()\n",
    "        .reset_index(name=\"Count\")\n",
    "        .pivot(index=\"Year\", columns=\"FatalEvent\", values=\"Count\")\n",
    "    )\n",
    "\n",
    "    # proportions\n",
    "    proportions = counts.div(counts.sum(axis=1), axis=0)\n",
    "\n",
    "    # plot as stacked area\n",
    "    ax = proportions.plot(kind=\"area\", stacked=True, alpha=0.6, figsize=(8,5))\n",
    "    if not title:\n",
    "        title = \"Proportion of Fatal vs Non-Fatal Events\"\n",
    "    ax.set_title(title)\n",
    "    ax.set_ylabel(\"Proportion\")\n",
    "    ax.set_xlabel(\"Year\")\n",
    "    plt.legend(title='Event Type', loc='upper right', bbox_to_anchor=(1.2, 1))\n",
    "    plt.show()"
   ],
   "outputs": [],
   "execution_count": 7
  },
  {
   "cell_type": "code",
   "metadata": {
    "ExecuteTime": {
     "end_time": "2025-10-04T19:59:23.672007Z",
     "start_time": "2025-10-04T19:59:23.484305Z"
    }
   },
   "source": [
    "proportion_chart(df, \"Event.Date\", \"Total.Fatal.Injuries\",\n",
    "                 title=\"Proportion of Fatal vs Non-Fatal Events\")"
   ],
   "outputs": [
    {
     "data": {
      "text/plain": [
       "<Figure size 800x500 with 1 Axes>"
      ],
      "image/png": "[encoded data removed]"
     },
     "metadata": {},
     "output_type": "display_data",
     "jetTransient": {
      "display_id": null
     }
    }
   ],
   "execution_count": 8
  },
  {
   "cell_type": "markdown",
   "metadata": {},
   "source": [
    "This proportion chart shows that fatal events have been relatively constant over the years and account for about 20% of all reported events. There were several null values in for fatality counts, which were assumed to be 0 fatalities (so, a non-fatal event) and years before 1982 were removed, since only about 2 events per year were recorded and therefore misrepresented the proportions over time. Although the fatality proportion fluctuates slightly with noticeable spikes around 1993 and 2019, e.g., the overall trend has been stable. This consistency suggests that while the absolute number of accidents has declined, the relative share of fatal vs. non fatal outcomes has not shifted dramatically."
   ]
  },
  {
   "cell_type": "code",
   "metadata": {
    "ExecuteTime": {
     "end_time": "2025-10-04T19:59:23.687323Z",
     "start_time": "2025-10-04T19:59:23.678285Z"
    }
   },
   "source": [
    "def safety_score(df, date_col, fatal_col, year):\n",
    "    \"\"\"compute safety score for the most recent year: cafety score = % of non fatal events\"\"\"\n",
    "    df = df.copy()\n",
    "    recent = df[df[date_col].dt.year == year]\n",
    "\n",
    "    total_events = len(recent)\n",
    "    non_fatal_events = (recent[fatal_col].fillna(0) == 0).sum()\n",
    "\n",
    "    score = (non_fatal_events / total_events) * 100 if total_events > 0 else 0\n",
    "    return year, score\n"
   ],
   "outputs": [],
   "execution_count": 9
  },
  {
   "cell_type": "markdown",
   "metadata": {},
   "source": [
    "The safety metric is defined here is determining all the non fatal counts per year in comparison to total events and using that proporition to represent the safety."
   ]
  },
  {
   "cell_type": "code",
   "metadata": {
    "ExecuteTime": {
     "end_time": "2025-10-04T19:59:23.718235Z",
     "start_time": "2025-10-04T19:59:23.690443Z"
    }
   },
   "source": [
    "# most recent year in dataset\n",
    "latest_year = df[\"Event.Date\"].dt.year.max()\n",
    "year, score = safety_score(df, \"Event.Date\", \"Total.Fatal.Injuries\",latest_year)\n",
    "print(f\"Safety Score for {year}: {score:.2f}\")"
   ],
   "outputs": [
    {
     "name": "stdout",
     "output_type": "stream",
     "text": [
      "Safety Score for 2022: 81.27\n"
     ]
    }
   ],
   "execution_count": 10
  },
  {
   "cell_type": "code",
   "metadata": {
    "ExecuteTime": {
     "end_time": "2025-10-04T19:59:23.749782Z",
     "start_time": "2025-10-04T19:59:23.730875Z"
    }
   },
   "source": [
    "# card \n",
    "fig, ax = plt.subplots(figsize=(4,2))\n",
    "ax.text(0.5, 0.6, f\"{score:.1f}%\", fontsize=32, ha=\"center\")\n",
    "ax.text(0.5, 0.3, f\"Safety Score ({year})\", fontsize=12, ha=\"center\")\n",
    "ax.axis(\"off\")\n",
    "plt.show()\n"
   ],
   "outputs": [
    {
     "data": {
      "text/plain": [
       "<Figure size 400x200 with 1 Axes>"
      ],
      "image/png": "[encoded data removed]"
     },
     "metadata": {},
     "output_type": "display_data",
     "jetTransient": {
      "display_id": null
     }
    }
   ],
   "execution_count": 11
  },
  {
   "cell_type": "markdown",
   "metadata": {},
   "source": [
    "Insight Goal:\n",
    "\n",
    "Aviation safety has shown clear progress over the past four decades, though some areas remain stagnant. Since the early 2000s, the number of accidents has steadily declined from around 2,000 per year to about 1,400–1,500 in the 2020s, indicating significant improvements in accident prevention through better technology, training, and regulation. At the same time, the number of reported incidents less severe events has gradually increased. This rise is likely due to stronger monitoring and reporting practices rather than a real decline in safety, suggesting that the industry is catching more potential risks before they escalate into serious accidents.\n",
    "\n",
    "When examining outcomes, however, the proportion of fatal versus non fatal events has remained relatively unchanged. Roughly 80% of events each year are non fatal, while about 20% result in fatalities, a ratio that has stayed consistent since the 1980s despite occasional spikes in years such as 1993 and 2019. This indicates that while the total number of accidents has decreased, the likelihood of a fatal outcome when an accident does occur has not improved substantially. The safety score, defined as the proportion of non fatal events out of total recorded events has typically ranged between 75% and 85% (can be seen in the proportion chart for the temporal chnages of the safety score) showing stability rather than upward progress in survivability outcomes.\n",
    "\n",
    "Overall, the data demonstrates that aviation has become safer in terms of reducing the frequency of serious accidents, but survivability within accidents has not improved to the same degree. This points to progress in prevention, stagnation in fatality outcomes, and a need for continued attention to accident survivability measures such as emergency response, crashworthiness, and onboard safety systems. Additionally, some periods, particularly between 2001 and 2007, suffer from missing data, highlighting the importance of consistent reporting to ensure accurate long term safety evaluations."
   ]
  }
 ],
 "metadata": {
  "kernelspec": {
   "display_name": "base",
   "language": "python",
   "name": "python3"
  },
  "language_info": {
   "codemirror_mode": {
    "name": "ipython",
    "version": 3
   },
   "file_extension": ".py",
   "mimetype": "text/x-python",
   "name": "python",
   "nbconvert_exporter": "python",
   "pygments_lexer": "ipython3",
   "version": "3.11.9"
  }
 },
 "nbformat": 4,
 "nbformat_minor": 2
}
